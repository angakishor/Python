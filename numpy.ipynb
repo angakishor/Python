{
  "nbformat": 4,
  "nbformat_minor": 0,
  "metadata": {
    "colab": {
      "provenance": [],
      "toc_visible": true,
      "authorship_tag": "ABX9TyMaJK2AH+C8o18xaOfoz2q5",
      "include_colab_link": true
    },
    "kernelspec": {
      "name": "python3",
      "display_name": "Python 3"
    },
    "language_info": {
      "name": "python"
    }
  },
  "cells": [
    {
      "cell_type": "markdown",
      "metadata": {
        "id": "view-in-github",
        "colab_type": "text"
      },
      "source": [
        "<a href=\"https://colab.research.google.com/github/angakishor/Python/blob/main/numpy.ipynb\" target=\"_parent\"><img src=\"https://colab.research.google.com/assets/colab-badge.svg\" alt=\"Open In Colab\"/></a>"
      ]
    },
    {
      "cell_type": "code",
      "execution_count": 8,
      "metadata": {
        "id": "sc_XQwtZkO6C"
      },
      "outputs": [],
      "source": [
        "import numpy as np\n",
        "\n",
        "a = np.array([1, 2, 3])\n",
        "b = np.zeros((2, 3))      # 2x3 matrix of zeros\n",
        "c = np.ones((3, 3))       # 3x3 matrix of ones\n",
        "d = np.arange(1, 10, 2)   # [1, 3, 5, 7, 9]\n",
        "e = np.full((2, 2), 7)                 # Fill with specific value\n",
        "f = np.eye(4)                          # Identity matrix\n",
        "g = np.random.rand(2, 2)               # Random values [0, 1)\n",
        "h = np.arange(0, 10, 2)                # [0, 2, 4, 6, 8]\n",
        "i = np.linspace(0, 1, 5)               # [0. , 0.25, 0.5, 0.75, 1.]\n"
      ]
    },
    {
      "cell_type": "code",
      "source": [
        "print(a)\n",
        "\n",
        "print(b)\n",
        "\n",
        "print(c)\n",
        "\n",
        "print(d)\n",
        "\n",
        "print(e)\n",
        "\n",
        "print(f)\n",
        "\n",
        "print(g)\n",
        "\n",
        "print(h)\n",
        "\n",
        "print(i)"
      ],
      "metadata": {
        "colab": {
          "base_uri": "https://localhost:8080/"
        },
        "id": "FFV3wW1AlXne",
        "outputId": "d38f5c45-398b-4b9d-ebf5-64fb1be87271"
      },
      "execution_count": 9,
      "outputs": [
        {
          "output_type": "stream",
          "name": "stdout",
          "text": [
            "[1 2 3]\n",
            "[[0. 0. 0.]\n",
            " [0. 0. 0.]]\n",
            "[[1. 1. 1.]\n",
            " [1. 1. 1.]\n",
            " [1. 1. 1.]]\n",
            "[1 3 5 7 9]\n",
            "[[7 7]\n",
            " [7 7]]\n",
            "[[1. 0. 0. 0.]\n",
            " [0. 1. 0. 0.]\n",
            " [0. 0. 1. 0.]\n",
            " [0. 0. 0. 1.]]\n",
            "[[0.70998    0.12307551]\n",
            " [0.77552263 0.24967856]]\n",
            "[0 2 4 6 8]\n",
            "[0.   0.25 0.5  0.75 1.  ]\n"
          ]
        }
      ]
    },
    {
      "cell_type": "code",
      "source": [
        "\n",
        "a.dtype\n"
      ],
      "metadata": {
        "colab": {
          "base_uri": "https://localhost:8080/"
        },
        "id": "ttaWAXgCtRl2",
        "outputId": "103c8c77-e16b-4866-cc4a-46d03709120c"
      },
      "execution_count": 12,
      "outputs": [
        {
          "output_type": "execute_result",
          "data": {
            "text/plain": [
              "dtype('int64')"
            ]
          },
          "metadata": {},
          "execution_count": 12
        }
      ]
    },
    {
      "cell_type": "code",
      "source": [
        "a.ndim"
      ],
      "metadata": {
        "colab": {
          "base_uri": "https://localhost:8080/"
        },
        "id": "BagJma98tcNF",
        "outputId": "d359b7d8-8b24-4b18-e8f7-8a044f6bf549"
      },
      "execution_count": 13,
      "outputs": [
        {
          "output_type": "execute_result",
          "data": {
            "text/plain": [
              "1"
            ]
          },
          "metadata": {},
          "execution_count": 13
        }
      ]
    },
    {
      "cell_type": "code",
      "source": [
        "a.size"
      ],
      "metadata": {
        "colab": {
          "base_uri": "https://localhost:8080/"
        },
        "id": "cIbnYyuTtfgk",
        "outputId": "daa8a13e-ddd5-4399-d779-803add31a368"
      },
      "execution_count": 14,
      "outputs": [
        {
          "output_type": "execute_result",
          "data": {
            "text/plain": [
              "3"
            ]
          },
          "metadata": {},
          "execution_count": 14
        }
      ]
    },
    {
      "cell_type": "code",
      "source": [
        "a.shape"
      ],
      "metadata": {
        "colab": {
          "base_uri": "https://localhost:8080/"
        },
        "id": "AxW6Im2stizD",
        "outputId": "9c72620b-8dcb-4229-d5d0-812948fb8c36"
      },
      "execution_count": 15,
      "outputs": [
        {
          "output_type": "execute_result",
          "data": {
            "text/plain": [
              "(3,)"
            ]
          },
          "metadata": {},
          "execution_count": 15
        }
      ]
    },
    {
      "cell_type": "code",
      "source": [
        "x = np.array([1, 2, 3])\n",
        "y = np.array([4, 5, 6])\n",
        "print(x + y)  # [5, 7, 9]\n",
        "print(np.mean(x))  # average\n",
        "print(np.dot(x, y))  # dot product\n"
      ],
      "metadata": {
        "colab": {
          "base_uri": "https://localhost:8080/"
        },
        "id": "NqYqTnSll9bX",
        "outputId": "a74cd9ee-22d8-4c44-813a-4f3fe1b391cf"
      },
      "execution_count": 3,
      "outputs": [
        {
          "output_type": "stream",
          "name": "stdout",
          "text": [
            "[5 7 9]\n",
            "2.0\n",
            "32\n"
          ]
        }
      ]
    },
    {
      "cell_type": "code",
      "source": [
        "arr = np.array([10, 20, 30, 40, 50])\n",
        "print(arr[1])            # 20\n",
        "print(arr[1:4])          # [20, 30, 40]\n",
        "\n",
        "matrix = np.array([[1, 2, 3], [4, 5, 6]])\n",
        "print(matrix[1, 2])      # 6\n",
        "print(matrix[:, 1])      # [2 5] (all rows, column 1)\n"
      ],
      "metadata": {
        "colab": {
          "base_uri": "https://localhost:8080/"
        },
        "id": "mcEXBhavuG3Z",
        "outputId": "65cd59ef-7bd0-436e-ad8b-e9960d65a9a8"
      },
      "execution_count": 16,
      "outputs": [
        {
          "output_type": "stream",
          "name": "stdout",
          "text": [
            "20\n",
            "[20 30 40]\n",
            "6\n",
            "[2 5]\n"
          ]
        }
      ]
    },
    {
      "cell_type": "code",
      "source": [
        "a = np.array([1, 2, 3])\n",
        "b = np.array([4, 5, 6])\n",
        "\n",
        "print(a + b)       # [5 7 9]\n",
        "print(a - b)       # [-3 -3 -3]\n",
        "print(a * b)       # [4 10 18]\n",
        "print(a / b)       # [0.25 0.4 0.5]\n",
        "print(a ** 2)      # [1 4 9]\n"
      ],
      "metadata": {
        "colab": {
          "base_uri": "https://localhost:8080/"
        },
        "id": "LdKm3qWTvzD_",
        "outputId": "c626a0b2-21e4-46a3-c212-42fa67719505"
      },
      "execution_count": 17,
      "outputs": [
        {
          "output_type": "stream",
          "name": "stdout",
          "text": [
            "[5 7 9]\n",
            "[-3 -3 -3]\n",
            "[ 4 10 18]\n",
            "[0.25 0.4  0.5 ]\n",
            "[1 4 9]\n"
          ]
        }
      ]
    },
    {
      "cell_type": "code",
      "source": [
        "x = np.array([[1, 2], [3, 4]])\n",
        "y = np.array([[5, 6], [7, 8]])\n",
        "\n",
        "print(np.dot(x, y))   # Matrix multiplication\n"
      ],
      "metadata": {
        "colab": {
          "base_uri": "https://localhost:8080/"
        },
        "id": "WZ2EKxbVwCi2",
        "outputId": "fa9efc56-42b1-425c-9fbf-1d94c2e19155"
      },
      "execution_count": 18,
      "outputs": [
        {
          "output_type": "stream",
          "name": "stdout",
          "text": [
            "[[19 22]\n",
            " [43 50]]\n"
          ]
        }
      ]
    },
    {
      "cell_type": "code",
      "source": [
        "a = np.array([[1, 2], [3, 4], [5, 6]])\n",
        "\n",
        "print(a.reshape(2, 3))      # Change shape to 2x3\n",
        "print(a.flatten())          # Flatten to 1D array\n"
      ],
      "metadata": {
        "colab": {
          "base_uri": "https://localhost:8080/"
        },
        "id": "mVrXcaY5wh8U",
        "outputId": "aa63a3d5-56a7-415d-820f-11b70b71e9a9"
      },
      "execution_count": 19,
      "outputs": [
        {
          "output_type": "stream",
          "name": "stdout",
          "text": [
            "[[1 2 3]\n",
            " [4 5 6]]\n",
            "[1 2 3 4 5 6]\n"
          ]
        }
      ]
    },
    {
      "cell_type": "code",
      "source": [
        "a = np.array([[1, 2]])\n",
        "b = np.array([[3, 4]])\n",
        "\n",
        "print(np.vstack((a, b)))   # Vertical stack\n",
        "print(np.hstack((a, b)))   # Horizontal stack\n"
      ],
      "metadata": {
        "colab": {
          "base_uri": "https://localhost:8080/"
        },
        "id": "9u6YwAfHxYHw",
        "outputId": "1bba5a37-8b6f-4c19-fc38-99cad0c22cd5"
      },
      "execution_count": 20,
      "outputs": [
        {
          "output_type": "stream",
          "name": "stdout",
          "text": [
            "[[1 2]\n",
            " [3 4]]\n",
            "[[1 2 3 4]]\n"
          ]
        }
      ]
    },
    {
      "cell_type": "code",
      "source": [
        "arr = np.array([10, 20, 30, 40])\n",
        "print(arr > 25)            # [False False  True  True]\n",
        "print(np.where(arr > 25))  # Indices where condition is True\n"
      ],
      "metadata": {
        "colab": {
          "base_uri": "https://localhost:8080/"
        },
        "id": "e5x2iOLMxlbV",
        "outputId": "7d9d1bf2-bafb-40a6-d5fd-6c70ff4adbda"
      },
      "execution_count": 21,
      "outputs": [
        {
          "output_type": "stream",
          "name": "stdout",
          "text": [
            "[False False  True  True]\n",
            "(array([2, 3]),)\n"
          ]
        }
      ]
    },
    {
      "cell_type": "code",
      "source": [
        "a = np.array([1, 2, 3])\n",
        "b = a.copy()     # Independent copy\n",
        "c = a.view()     # Shares data\n",
        "\n",
        "a[0] = 100\n",
        "print(b)         # [1 2 3]\n",
        "print(c)         # [100 2 3]\n"
      ],
      "metadata": {
        "colab": {
          "base_uri": "https://localhost:8080/"
        },
        "id": "0c8dT2tfynHt",
        "outputId": "c4228180-0bc8-450f-a8a0-4ed29ec18034"
      },
      "execution_count": 22,
      "outputs": [
        {
          "output_type": "stream",
          "name": "stdout",
          "text": [
            "[1 2 3]\n",
            "[100   2   3]\n"
          ]
        }
      ]
    },
    {
      "cell_type": "code",
      "source": [
        "a = np.array([1, 2, 3])\n",
        "b = 2\n",
        "print(a + b)    # [3 4 5]\n"
      ],
      "metadata": {
        "colab": {
          "base_uri": "https://localhost:8080/"
        },
        "id": "9VckJC5ezccw",
        "outputId": "7d62d1da-9281-4b74-ae88-25714ef7c2b2"
      },
      "execution_count": 23,
      "outputs": [
        {
          "output_type": "stream",
          "name": "stdout",
          "text": [
            "[3 4 5]\n"
          ]
        }
      ]
    },
    {
      "cell_type": "code",
      "source": [
        "arr=[10,5,7,11,5,35,19,7]\n",
        "a=np.unique(arr)      # Unique values\n",
        "b=np.sort(arr)        # Sort array\n",
        "c=np.argmax(arr)      # Index of max value\n",
        "d=np.argmin(arr)      # Index of min value\n",
        "e=np.clip(arr, 10, 20) # Limit values between 10 and 20\n",
        "print(a)\n",
        "print(b)\n",
        "print(c)\n",
        "print(d)\n",
        "print(e)"
      ],
      "metadata": {
        "colab": {
          "base_uri": "https://localhost:8080/"
        },
        "id": "c4Ubve3Oznay",
        "outputId": "02ce9f88-b562-4de0-c762-ef89289588ee"
      },
      "execution_count": 25,
      "outputs": [
        {
          "output_type": "stream",
          "name": "stdout",
          "text": [
            "[ 5  7 10 11 19 35]\n",
            "[ 5  5  7  7 10 11 19 35]\n",
            "5\n",
            "1\n",
            "[10 10 10 11 10 20 19 10]\n"
          ]
        }
      ]
    },
    {
      "cell_type": "code",
      "source": [
        "print(np.random.seed(42))           # For reproducibility\n",
        "print(np.random.randint(0, 10, 5))  # 5 random integers between 0–9\n",
        "print(np.random.normal(0, 1, 5))    # Normal distribution\n"
      ],
      "metadata": {
        "colab": {
          "base_uri": "https://localhost:8080/"
        },
        "id": "cgHMlIUA037V",
        "outputId": "1997da0c-485e-4b9b-ef39-b8f8a6830ea1"
      },
      "execution_count": 27,
      "outputs": [
        {
          "output_type": "stream",
          "name": "stdout",
          "text": [
            "None\n",
            "[6 3 7 4 6]\n",
            "[-0.91682684 -0.12414718 -2.01096289 -0.49280342  0.39257975]\n"
          ]
        }
      ]
    }
  ]
}